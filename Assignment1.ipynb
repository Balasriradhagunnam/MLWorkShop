{
  "nbformat": 4,
  "nbformat_minor": 0,
  "metadata": {
    "colab": {
      "provenance": [],
      "toc_visible": true,
      "authorship_tag": "ABX9TyP0hMUx56CwQRQBwFq37hNW",
      "include_colab_link": true
    },
    "kernelspec": {
      "name": "python3",
      "display_name": "Python 3"
    },
    "language_info": {
      "name": "python"
    }
  },
  "cells": [
    {
      "cell_type": "markdown",
      "metadata": {
        "id": "view-in-github",
        "colab_type": "text"
      },
      "source": [
        "<a href=\"https://colab.research.google.com/github/Balasriradhagunnam/MLWorkShop/blob/main/Assignment1.ipynb\" target=\"_parent\"><img src=\"https://colab.research.google.com/assets/colab-badge.svg\" alt=\"Open In Colab\"/></a>"
      ]
    },
    {
      "cell_type": "markdown",
      "source": [
        "#Assignment - I\n"
      ],
      "metadata": {
        "id": "iZgr3U_jScsh"
      }
    },
    {
      "cell_type": "markdown",
      "source": [
        "##Q1.Perform arithmetic operations on NumPy arrays.\n"
      ],
      "metadata": {
        "id": "xhlCyshwSi4N"
      }
    },
    {
      "cell_type": "code",
      "execution_count": null,
      "metadata": {
        "colab": {
          "base_uri": "https://localhost:8080/"
        },
        "id": "Q8m4eunoSbcg",
        "outputId": "4751551d-8239-44c6-8f62-e02ed2943bb9"
      },
      "outputs": [
        {
          "output_type": "stream",
          "name": "stdout",
          "text": [
            "---ADDITION---\n",
            "First method [[ 2  5  8]\n",
            " [ 6  9 12]]\n",
            "Second Method [[ 2  5  8]\n",
            " [ 6  9 12]]\n",
            "---SUBTRACTION---\n",
            "First method [[ 0 -1 -2]\n",
            " [ 2  1  0]]\n",
            "Second Method [[ 0 -1 -2]\n",
            " [ 2  1  0]]\n",
            "---MULTIPLICATION---\n",
            "First method [[ 1  6 15]\n",
            " [ 8 20 36]]\n",
            "Second Method [[ 1  6 15]\n",
            " [ 8 20 36]]\n",
            "---DIVISION---\n",
            "First method [[1.         0.66666667 0.6       ]\n",
            " [2.         1.25       1.        ]]\n",
            "Second Method [[1.         0.66666667 0.6       ]\n",
            " [2.         1.25       1.        ]]\n",
            "---FLOOR DIVISION---\n",
            "First method [[1 0 0]\n",
            " [2 1 1]]\n",
            "Second Method [[1 0 0]\n",
            " [2 1 1]]\n",
            "---MODULUS---\n",
            "First method [[0 2 3]\n",
            " [0 1 0]]\n",
            "Second Method [[0 2 3]\n",
            " [0 1 0]]\n",
            "---EXPONENTIAL---\n",
            "First method [[    1     8   243]\n",
            " [   16   625 46656]]\n",
            "Second Method [[    1     8   243]\n",
            " [   16   625 46656]]\n",
            "---SQUARE ROOT---\n",
            "First method [[1.         1.41421356 1.73205081]\n",
            " [2.         2.23606798 2.44948974]]\n",
            "Second Method [[1.         1.73205081 2.23606798]\n",
            " [1.41421356 2.         2.44948974]]\n"
          ]
        }
      ],
      "source": [
        "import numpy as np\n",
        "a=np.array([[1,2,3],[4,5,6]])\n",
        "b=np.array([[1,3,5],[2,4,6]])\n",
        "print(\"---ADDITION---\")\n",
        "print(f\"First method {a+b}\") #1st Method\n",
        "print(f\"Second Method {np.add(a,b)}\") #2nd Method\n",
        "print(\"---SUBTRACTION---\")\n",
        "print(f\"First method {a-b}\") #1st Method\n",
        "print(f\"Second Method {np.subtract(a,b)}\") #2nd Method\n",
        "print(\"---MULTIPLICATION---\")\n",
        "print(f\"First method {a*b}\") #1st Method\n",
        "print(f\"Second Method {np.multiply(a,b)}\") #2nd Method\n",
        "print(\"---DIVISION---\")\n",
        "print(f\"First method {a/b}\") #1st Method\n",
        "print(f\"Second Method {np.divide(a,b)}\") #2nd Method\n",
        "print(\"---FLOOR DIVISION---\")\n",
        "print(f\"First method {a//b}\") #1st Method\n",
        "print(f\"Second Method {np.floor_divide(a,b)}\") #2nd Method\n",
        "print(\"---MODULUS---\")\n",
        "print(f\"First method {a%b}\") #1st Method\n",
        "print(f\"Second Method {np.mod(a,b)}\") #2nd Method\n",
        "print(\"---EXPONENTIAL---\")\n",
        "print(f\"First method {a**b}\") #1st Method\n",
        "print(f\"Second Method {np.power(a,b)}\") #2nd Method\n",
        "print(\"---SQUARE ROOT---\")\n",
        "print(f\"First method {np.sqrt(a)}\") #1st Method\n",
        "print(f\"Second Method {np.sqrt(b)}\") #2nd Method"
      ]
    },
    {
      "cell_type": "markdown",
      "source": [
        "##Q2.Write a script to compute the mean and standard deviation of a NumPy array."
      ],
      "metadata": {
        "id": "arEwgPOVXNiO"
      }
    },
    {
      "cell_type": "markdown",
      "source": [
        "* Mean=Sum of all observations/no.of observations\n",
        "* Standard Deviation=sqrt(Σ(element-mean)^2/no.ofobservations-1)\n"
      ],
      "metadata": {
        "id": "E2_ewWFkXeBP"
      }
    },
    {
      "cell_type": "code",
      "source": [
        "import numpy as np\n",
        "ele=np.array([10,8,10,8,8,4])\n",
        "print(f\"Mean of array {int(np.mean(ele))}\")\n",
        "print(f\"Standard Deviation of array {int(np.std(ele))}\")"
      ],
      "metadata": {
        "colab": {
          "base_uri": "https://localhost:8080/"
        },
        "id": "SueupGw7XcMa",
        "outputId": "17208b44-0fce-4d77-9ece-382f42fe594f"
      },
      "execution_count": null,
      "outputs": [
        {
          "output_type": "stream",
          "name": "stdout",
          "text": [
            "Mean of array 8\n",
            "Standard Deviation of array 2\n"
          ]
        }
      ]
    },
    {
      "cell_type": "markdown",
      "source": [
        "##Q3. Create a NumPy array of integers from 10 to 50 with a step size of 5."
      ],
      "metadata": {
        "id": "INK_3FWI_FWm"
      }
    },
    {
      "cell_type": "code",
      "source": [
        "import numpy as np\n",
        "a=np.arange(10,51,5)\n",
        "print(a)"
      ],
      "metadata": {
        "colab": {
          "base_uri": "https://localhost:8080/"
        },
        "id": "rJUWiPCC_E0u",
        "outputId": "45b8c75c-503f-4297-e558-c29b8dc91023"
      },
      "execution_count": null,
      "outputs": [
        {
          "output_type": "stream",
          "name": "stdout",
          "text": [
            "[10 15 20 25 30 35 40 45 50]\n"
          ]
        }
      ]
    },
    {
      "cell_type": "markdown",
      "source": [
        "##Q4.Reshape the array into a 2x4 matrix"
      ],
      "metadata": {
        "id": "4Jz5UW4JAJjt"
      }
    },
    {
      "cell_type": "code",
      "source": [
        "import numpy as np\n",
        "a=np.array([[1,2,3],[3,4,5]])\n",
        "print(a)\n",
        "print(f\"Shape of array is {a.shape}\")\n",
        "b=[0,1,2,1]\n",
        "c=a[:,b]\n",
        "print(c)\n",
        "print(f\"Shape of Updated array is {c.shape}\")"
      ],
      "metadata": {
        "colab": {
          "base_uri": "https://localhost:8080/"
        },
        "id": "nR81XwjWAWSm",
        "outputId": "636701fd-d010-44b8-b68c-63e3f7d1a2f2"
      },
      "execution_count": null,
      "outputs": [
        {
          "output_type": "stream",
          "name": "stdout",
          "text": [
            "[[1 2 3]\n",
            " [3 4 5]]\n",
            "Shape of array is (2, 3)\n",
            "[[1 2 3 2]\n",
            " [3 4 5 4]]\n",
            "Shape of Updated array is (2, 4)\n"
          ]
        }
      ]
    },
    {
      "cell_type": "markdown",
      "source": [
        "##Q5. Given the array arr = np.array([[1, 2, 3], [4, 5, 6], [7, 8, 9]]):\n",
        "* Extract the sub-matrix containing the last two rows and first two columns.\n",
        "* Replace all elements greater than 4 with 0."
      ],
      "metadata": {
        "id": "R-zdsk0-Cuxa"
      }
    },
    {
      "cell_type": "code",
      "source": [
        "import numpy as np\n",
        "arr = np.array([[1, 2, 3], [4, 5, 6], [7, 8, 9]])\n",
        "print(arr)\n",
        "sub=arr[1:,:2]\n",
        "print(\"Sub-array is \")\n",
        "print(sub)"
      ],
      "metadata": {
        "colab": {
          "base_uri": "https://localhost:8080/"
        },
        "id": "egjzzJJQC9q9",
        "outputId": "fe200f24-c2b5-4ae7-cbba-7ecd2d96abb0"
      },
      "execution_count": 189,
      "outputs": [
        {
          "output_type": "stream",
          "name": "stdout",
          "text": [
            "[[1 2 3]\n",
            " [4 5 6]\n",
            " [7 8 9]]\n",
            "Sub-array is \n",
            "[[4 5]\n",
            " [7 8]]\n"
          ]
        }
      ]
    },
    {
      "cell_type": "code",
      "source": [
        "import numpy as np\n",
        "a=np.array([1,5,10,20,2])\n",
        "print(f\"Original array is {a}\")\n",
        "a[a>4]=0\n",
        "print(f\"Replaced Array is {a}\")"
      ],
      "metadata": {
        "colab": {
          "base_uri": "https://localhost:8080/"
        },
        "id": "LIiW2GdZFfqE",
        "outputId": "0cf794ea-3740-423f-b393-1252f86e5b2b"
      },
      "execution_count": null,
      "outputs": [
        {
          "output_type": "stream",
          "name": "stdout",
          "text": [
            "Original array is [ 1  5 10 20  2]\n",
            "Replaced Array is [1 0 0 0 2]\n"
          ]
        }
      ]
    },
    {
      "cell_type": "markdown",
      "source": [
        "##Q6.Create two 1D arrays:\n",
        "* a = np.array([1, 2, 3])\n",
        "\n",
        "* b = np.array([4, 5, 6])\n",
        "\n",
        "* Perform element-wise addition, multiplication, and division."
      ],
      "metadata": {
        "id": "xsFOHOZxI8a7"
      }
    },
    {
      "cell_type": "code",
      "source": [
        "import numpy as np\n",
        "a=np.array([1,2,3])\n",
        "b=np.array([4,5,6])\n",
        "print(f\"Addition of array is {a+b}\")\n",
        "print(f\"Multiplication of array is {a*b}\")\n",
        "print(f\"Division of array is {a/b}\")"
      ],
      "metadata": {
        "colab": {
          "base_uri": "https://localhost:8080/"
        },
        "id": "l9MAzWfXJQje",
        "outputId": "cc5caf6a-21a0-4ac8-f477-07c1ce7bef83"
      },
      "execution_count": null,
      "outputs": [
        {
          "output_type": "stream",
          "name": "stdout",
          "text": [
            "Addition of array is [5 7 9]\n",
            "Multiplication of array is [ 4 10 18]\n",
            "Division of array is [0.25 0.4  0.5 ]\n"
          ]
        }
      ]
    },
    {
      "cell_type": "markdown",
      "source": [
        "##Q7.Create a random NumPy array of size (4, 4). Compute:\n",
        "* Mean of each column.\n",
        "* Maximum value of the entire array.\n",
        "* Sum of all elements."
      ],
      "metadata": {
        "id": "DjCFhSz5Jv-m"
      }
    },
    {
      "cell_type": "code",
      "source": [
        "import numpy as np\n",
        "a=np.random.randint(0,11,size=(4,4))\n",
        "print(\"Random Numpy Array\")\n",
        "print(a)\n",
        "print(f\"Mean of each column {np.mean(a,axis=0)}\")\n",
        "print(f\"Maximum value of the entire array {np.max(a)}\")\n",
        "print(f\"Sum of all elements {np.sum(a)}\")"
      ],
      "metadata": {
        "colab": {
          "base_uri": "https://localhost:8080/"
        },
        "id": "BEl91fa6KMtB",
        "outputId": "270988e3-a5c1-415f-f5a4-2f3dfc6fcaa5"
      },
      "execution_count": null,
      "outputs": [
        {
          "output_type": "stream",
          "name": "stdout",
          "text": [
            "Random Numpy Array\n",
            "[[ 2  1  7  4]\n",
            " [ 9  9  1  5]\n",
            " [ 2 10  5 10]\n",
            " [ 5  9  4  6]]\n",
            "Mean of each column [4.5  7.25 4.25 6.25]\n",
            "Maximum value of the entire array 10\n",
            "Sum of all elements 89\n"
          ]
        }
      ]
    },
    {
      "cell_type": "markdown",
      "source": [
        "##Q8.Given the array arr = np.array([1, 2, 3, 4]), add 10 to each element and multiply the result by 2."
      ],
      "metadata": {
        "id": "FV3WRU6SOTAM"
      }
    },
    {
      "cell_type": "code",
      "source": [
        "import numpy as np\n",
        "arr = np.array([1, 2, 3, 4])\n",
        "print(f\"Actual array is {arr}\")\n",
        "b=(arr+10)*2\n",
        "print(f\"Updated array is {b}\")"
      ],
      "metadata": {
        "colab": {
          "base_uri": "https://localhost:8080/"
        },
        "id": "atT3-LAbObcP",
        "outputId": "b3b11a43-908f-4c13-d009-3cfade66b889"
      },
      "execution_count": null,
      "outputs": [
        {
          "output_type": "stream",
          "name": "stdout",
          "text": [
            "Actual array is [1 2 3 4]\n",
            "Updated array is [22 24 26 28]\n"
          ]
        }
      ]
    },
    {
      "cell_type": "markdown",
      "source": [
        "##Q9.Perform advanced slicing and indexing on a 3D array.\n",
        "###Create a 3D NumPy array arr of shape (3, 4, 5) with random integers ranging from 1 to 100. Perform the following:\n",
        "* Extract the second \"layer\" (i.e., the second 2D array) in the first dimension.\n",
        "* Extract the first two rows and the last three columns from each \"layer.\"\n",
        "* Replace all elements divisible by 3 with -1.\n"
      ],
      "metadata": {
        "id": "aIVIhExlPtNK"
      }
    },
    {
      "cell_type": "code",
      "source": [
        "import numpy as np\n",
        "arr=np.random.randint(1,101,size=(3,4,5))\n",
        "print(\"---Actual Array is---\")\n",
        "print(arr)\n",
        "print(\"---the second 2D array---\")\n",
        "a=arr[1,:,:]\n",
        "print(a)\n",
        "print(\"---the first two rows and the last three columns---\")\n",
        "b=arr[:,:2,-3:]\n",
        "print(b)\n",
        "arr[arr%3==0]=-1\n",
        "print(\"---Array after replacing the elements with -1 which are perfectly divisibe by 3---\")\n",
        "print(arr)"
      ],
      "metadata": {
        "colab": {
          "base_uri": "https://localhost:8080/"
        },
        "id": "UjSwGhYBQEIA",
        "outputId": "d533175e-7729-4e9e-80f3-b4ce0d81b9b4"
      },
      "execution_count": null,
      "outputs": [
        {
          "output_type": "stream",
          "name": "stdout",
          "text": [
            "---Actual Array is---\n",
            "[[[ 86  83  59  77  47]\n",
            "  [  6  86  25  42  56]\n",
            "  [ 75  15  88  20  20]\n",
            "  [  5   7  52  17   6]]\n",
            "\n",
            " [[ 23  56  44  46  76]\n",
            "  [ 80  69  50  41  71]\n",
            "  [ 19  96   4  11  71]\n",
            "  [ 77  44  93  27  30]]\n",
            "\n",
            " [[  5  52  84  38  76]\n",
            "  [ 80   5  67 100  71]\n",
            "  [ 75  11  92  80  81]\n",
            "  [ 20  24  16  69  58]]]\n",
            "---the second 2D array---\n",
            "[[23 56 44 46 76]\n",
            " [80 69 50 41 71]\n",
            " [19 96  4 11 71]\n",
            " [77 44 93 27 30]]\n",
            "---the first two rows and the last three columns---\n",
            "[[[ 59  77  47]\n",
            "  [ 25  42  56]]\n",
            "\n",
            " [[ 44  46  76]\n",
            "  [ 50  41  71]]\n",
            "\n",
            " [[ 84  38  76]\n",
            "  [ 67 100  71]]]\n",
            "---Array after replacing the elements with -1 which are perfectly divisibe by 3---\n",
            "[[[ 86  83  59  77  47]\n",
            "  [ -1  86  25  -1  56]\n",
            "  [ -1  -1  88  20  20]\n",
            "  [  5   7  52  17  -1]]\n",
            "\n",
            " [[ 23  56  44  46  76]\n",
            "  [ 80  -1  50  41  71]\n",
            "  [ 19  -1   4  11  71]\n",
            "  [ 77  44  -1  -1  -1]]\n",
            "\n",
            " [[  5  52  -1  38  76]\n",
            "  [ 80   5  67 100  71]\n",
            "  [ -1  11  92  80  -1]\n",
            "  [ 20  -1  16  -1  58]]]\n"
          ]
        }
      ]
    },
    {
      "cell_type": "markdown",
      "source": [
        "##Q10.Work with broadcasting and advanced operations in NumPy.\n",
        "##Create a NumPy array arr of shape (3, 3) with random integers between 1 and 20. Perform the following:\n",
        "* Subtract the mean of each row from its respective elements (row-wise\n",
        "normalization).\n",
        "* Create a new array by squaring all the elements in arr.\n",
        "* Find the indices of the top 3 maximum values in the entire array."
      ],
      "metadata": {
        "id": "7bHJWpEzVukE"
      }
    },
    {
      "cell_type": "code",
      "source": [
        "import numpy as np\n",
        "arr=np.random.randint(1,21,size=(3,3))\n",
        "print(\"---Actual Array is---\")\n",
        "print(arr)\n",
        "print(\"---Subtract the mean of each row from its respective elements (row-wise normalization)---\")\n",
        "a=arr-arr.mean(axis=1)\n",
        "print(a)\n",
        "print(\"---Create a new array by squaring all the elements in arr---\")\n",
        "b=[np.sqrt(arr)]\n",
        "print(b)\n",
        "print(\"---Find the indices of the top 3 maximum values in the entire array---\")\n",
        "flat_indices = np.argsort(arr.ravel())[-3:]\n",
        "top_3_indices = np.unravel_index(flat_indices, arr.shape)\n",
        "print(\"Indices of the top 3 elements in descending order:\")\n",
        "top_3_indices = list(zip(top_3_indices[0], top_3_indices[1]))\n",
        "print(top_3_indices)"
      ],
      "metadata": {
        "colab": {
          "base_uri": "https://localhost:8080/"
        },
        "id": "jNvnfcg5WKAO",
        "outputId": "42d46fdc-dc7f-41d7-c7c3-57e8eaf78cc5"
      },
      "execution_count": null,
      "outputs": [
        {
          "output_type": "stream",
          "name": "stdout",
          "text": [
            "---Actual Array is---\n",
            "[[13 13  5]\n",
            " [ 2  8 13]\n",
            " [15 15  7]]\n",
            "---Subtract the mean of each row from its respective elements (row-wise normalization)---\n",
            "[[ 2.66666667  5.33333333 -7.33333333]\n",
            " [-8.33333333  0.33333333  0.66666667]\n",
            " [ 4.66666667  7.33333333 -5.33333333]]\n",
            "---Create a new array by squaring all the elements in arr---\n",
            "[array([[3.60555128, 3.60555128, 2.23606798],\n",
            "       [1.41421356, 2.82842712, 3.60555128],\n",
            "       [3.87298335, 3.87298335, 2.64575131]])]\n",
            "---Find the indices of the top 3 maximum values in the entire array---\n",
            "Indices of the top 3 elements in descending order:\n",
            "[(1, 2), (2, 0), (2, 1)]\n"
          ]
        }
      ]
    }
  ]
}