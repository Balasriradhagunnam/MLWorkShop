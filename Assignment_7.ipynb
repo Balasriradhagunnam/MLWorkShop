{
  "nbformat": 4,
  "nbformat_minor": 0,
  "metadata": {
    "colab": {
      "provenance": [],
      "authorship_tag": "ABX9TyNJwkclXcOBarO29sYi7uai",
      "include_colab_link": true
    },
    "kernelspec": {
      "name": "python3",
      "display_name": "Python 3"
    },
    "language_info": {
      "name": "python"
    }
  },
  "cells": [
    {
      "cell_type": "markdown",
      "metadata": {
        "id": "view-in-github",
        "colab_type": "text"
      },
      "source": [
        "<a href=\"https://colab.research.google.com/github/Balasriradhagunnam/MLWorkShop/blob/main/Assignment_7.ipynb\" target=\"_parent\"><img src=\"https://colab.research.google.com/assets/colab-badge.svg\" alt=\"Open In Colab\"/></a>"
      ]
    },
    {
      "cell_type": "markdown",
      "source": [
        "#Assignment-7"
      ],
      "metadata": {
        "id": "dIbTG0-S-1xS"
      }
    },
    {
      "cell_type": "markdown",
      "source": [
        "<font size='5'>Import necessary libraries</font>"
      ],
      "metadata": {
        "id": "93eq8dyG-1sT"
      }
    },
    {
      "cell_type": "code",
      "execution_count": 14,
      "metadata": {
        "id": "jw3co8W89oaS"
      },
      "outputs": [],
      "source": [
        "import pandas as pd\n",
        "import numpy as np\n",
        "from sklearn.datasets import load_iris\n",
        "from sklearn.model_selection import train_test_split\n",
        "from sklearn.preprocessing import StandardScaler\n",
        "from sklearn.metrics import accuracy_score, precision_score, recall_score, f1_score\n",
        "from sklearn.linear_model import LogisticRegression\n",
        "from sklearn.naive_bayes import GaussianNB\n",
        "from sklearn.neighbors import KNeighborsClassifier\n",
        "from sklearn.tree import DecisionTreeClassifier\n",
        "from sklearn.svm import SVC"
      ]
    },
    {
      "cell_type": "markdown",
      "source": [
        "<font size='5'>Load the Iris dataset</font>"
      ],
      "metadata": {
        "id": "PuF1YFFa_CtF"
      }
    },
    {
      "cell_type": "code",
      "source": [
        "iris = load_iris()\n",
        "X = pd.DataFrame(iris.data, columns=iris.feature_names)\n",
        "y = iris.target"
      ],
      "metadata": {
        "id": "kXJ5Lc4Y9_ez"
      },
      "execution_count": 15,
      "outputs": []
    },
    {
      "cell_type": "markdown",
      "source": [
        "<font size='5'>Split the dataset into training and test sets</font>"
      ],
      "metadata": {
        "id": "uN8k56-D_LT4"
      }
    },
    {
      "cell_type": "code",
      "source": [
        "X_train, X_test, y_train, y_test = train_test_split(X, y, test_size=0.3, random_state=42)"
      ],
      "metadata": {
        "id": "nhuxJY5_9_ba"
      },
      "execution_count": 16,
      "outputs": []
    },
    {
      "cell_type": "markdown",
      "source": [
        "<font size='5'>Standardize the features for KNN and SVC</font>"
      ],
      "metadata": {
        "id": "VzXRCktd_Tma"
      }
    },
    {
      "cell_type": "code",
      "source": [
        "scaler = StandardScaler()\n",
        "X_train_scaled = scaler.fit_transform(X_train)\n",
        "X_test_scaled = scaler.transform(X_test)"
      ],
      "metadata": {
        "id": "7ytegwQR9_Ya"
      },
      "execution_count": 17,
      "outputs": []
    },
    {
      "cell_type": "markdown",
      "source": [
        "<font size='5'>Dictionary to store results</font>"
      ],
      "metadata": {
        "id": "kMPjOLwX_YMB"
      }
    },
    {
      "cell_type": "code",
      "source": [
        "results = {}"
      ],
      "metadata": {
        "id": "v6ZEKFlA9_V2"
      },
      "execution_count": 18,
      "outputs": []
    },
    {
      "cell_type": "markdown",
      "source": [
        "<font size='5'>Function to evaluate model performance</font>"
      ],
      "metadata": {
        "id": "ISiy0evG_hWx"
      }
    },
    {
      "cell_type": "code",
      "source": [
        "def evaluate_model(model, X_train, X_test, y_train, y_test, model_name, scaled=False):\n",
        "    if scaled:\n",
        "        model.fit(X_train_scaled, y_train)\n",
        "        y_pred = model.predict(X_test_scaled)\n",
        "    else:\n",
        "        model.fit(X_train, y_train)\n",
        "        y_pred = model.predict(X_test)\n",
        "\n",
        "    accuracy = accuracy_score(y_test, y_pred)\n",
        "    precision = precision_score(y_test, y_pred, average=\"weighted\")\n",
        "    recall = recall_score(y_test, y_pred, average=\"weighted\")\n",
        "    f1 = f1_score(y_test, y_pred, average=\"weighted\")\n",
        "\n",
        "    results[model_name] = {\n",
        "        \"Accuracy\": accuracy,\n",
        "        \"Precision\": precision,\n",
        "        \"Recall\": recall,\n",
        "        \"F1-Score\": f1\n",
        "    }\n"
      ],
      "metadata": {
        "id": "YlTMtz2y9_TK"
      },
      "execution_count": 19,
      "outputs": []
    },
    {
      "cell_type": "markdown",
      "source": [
        "<font size='5'>Logistic Regression</font>"
      ],
      "metadata": {
        "id": "weF1t3SN_mg5"
      }
    },
    {
      "cell_type": "code",
      "source": [
        "evaluate_model(LogisticRegression(), X_train, X_test, y_train, y_test, \"Logistic Regression\")"
      ],
      "metadata": {
        "id": "AGspsMJx9_QQ"
      },
      "execution_count": 20,
      "outputs": []
    },
    {
      "cell_type": "markdown",
      "source": [
        "<font size='5'>Naive Bayes</font>"
      ],
      "metadata": {
        "id": "-IC1je7z_u_s"
      }
    },
    {
      "cell_type": "code",
      "source": [
        "evaluate_model(GaussianNB(), X_train, X_test, y_train, y_test, \"Naive Bayes\")"
      ],
      "metadata": {
        "id": "PGPKm3zg9_M-"
      },
      "execution_count": 21,
      "outputs": []
    },
    {
      "cell_type": "markdown",
      "source": [
        "<font size='5'>KNN</font>"
      ],
      "metadata": {
        "id": "1O21PVbQ_2Uc"
      }
    },
    {
      "cell_type": "code",
      "source": [
        "evaluate_model(KNeighborsClassifier(n_neighbors=3), X_train, X_test, y_train, y_test, \"KNN\", scaled=True)"
      ],
      "metadata": {
        "id": "yTBF47M9-azx"
      },
      "execution_count": 22,
      "outputs": []
    },
    {
      "cell_type": "markdown",
      "source": [
        "<font size='5'>Decision Tree</font>"
      ],
      "metadata": {
        "id": "EuuATN5X_-X6"
      }
    },
    {
      "cell_type": "code",
      "source": [
        "evaluate_model(DecisionTreeClassifier(random_state=42), X_train, X_test, y_train, y_test, \"Decision Tree\")"
      ],
      "metadata": {
        "id": "G73g3_Bp-awY"
      },
      "execution_count": 23,
      "outputs": []
    },
    {
      "cell_type": "markdown",
      "source": [
        "<font size='5'>Support Vector Classifier (SVC)</font>"
      ],
      "metadata": {
        "id": "5DTL8XxRAD2F"
      }
    },
    {
      "cell_type": "code",
      "source": [
        "evaluate_model(SVC(kernel=\"linear\", random_state=42), X_train, X_test, y_train, y_test, \"SVC\", scaled=True)"
      ],
      "metadata": {
        "id": "5nI77BDQ-auH"
      },
      "execution_count": 24,
      "outputs": []
    },
    {
      "cell_type": "markdown",
      "source": [
        "<font size='5'>Display results</font>"
      ],
      "metadata": {
        "id": "EjfkKvVxANJ6"
      }
    },
    {
      "cell_type": "code",
      "source": [
        "results_df = pd.DataFrame(results).T\n",
        "print(\"\\nModel Performance Metrics:\")\n",
        "print(results_df)"
      ],
      "metadata": {
        "colab": {
          "base_uri": "https://localhost:8080/"
        },
        "id": "O0ErNQis-arr",
        "outputId": "51f88593-360a-4774-afb7-5937a963b5fd"
      },
      "execution_count": 25,
      "outputs": [
        {
          "output_type": "stream",
          "name": "stdout",
          "text": [
            "\n",
            "Model Performance Metrics:\n",
            "                     Accuracy  Precision    Recall  F1-Score\n",
            "Logistic Regression  1.000000   1.000000  1.000000  1.000000\n",
            "Naive Bayes          0.977778   0.979365  0.977778  0.977745\n",
            "KNN                  1.000000   1.000000  1.000000  1.000000\n",
            "Decision Tree        1.000000   1.000000  1.000000  1.000000\n",
            "SVC                  0.977778   0.979365  0.977778  0.977745\n"
          ]
        }
      ]
    }
  ]
}